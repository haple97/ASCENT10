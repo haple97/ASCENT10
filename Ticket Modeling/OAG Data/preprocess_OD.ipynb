{
 "cells": [
  {
   "cell_type": "code",
   "execution_count": null,
   "metadata": {},
   "outputs": [],
   "source": [
    "import pandas as pd\n",
    "import numpy as np\n",
    "import dask.dataframe as dd"
   ]
  },
  {
   "cell_type": "markdown",
   "metadata": {},
   "source": [
    "**Cleaning Data Columns**\n",
    "\n",
    "Note: This part **can be skipped** if column names are already standardized.\n",
    "* Turn all columns into lowercase with underscore\n",
    "* Fix other column names (e.g. removing '.')\n",
    "* Create route_id"
   ]
  },
  {
   "cell_type": "code",
   "execution_count": null,
   "metadata": {},
   "outputs": [],
   "source": [
    "OD_data = dd.read_csv('./worldwide_OD_1120.CSV')"
   ]
  },
  {
   "cell_type": "code",
   "execution_count": null,
   "metadata": {},
   "outputs": [],
   "source": [
    "OD_data.columns = OD_data.columns.str.replace(' ','_').str.lower()\n",
    "\n",
    "OD_data = OD_data.rename(columns={\"unnamed:_0\": \"route_id\", \"total_est._pax\":\"total_est_pax\", \n",
    "                                  \"avgfare_fully\":\"avgfare_full_y\"})\n",
    "\n",
    "OD_data['route_id'] = OD_data.index + 1"
   ]
  },
  {
   "cell_type": "markdown",
   "metadata": {},
   "source": [
    "**From OD Data to Segment Data**\n",
    "\n",
    "Process:  \n",
    "\n",
    "**Part 1**: Identify segments from each OD\n",
    "- Need: OD data\n",
    "- Output: 3 separate files for direct, one-connection, and two-connection routes\n",
    "\n",
    "**Part 2**: Based on information entered (cities, countries, regions, etc. and year), select OD with relevant segments, then sum passengers and take average fare:\n",
    "- Create dictionary or list of segments from region-region, region-country, or country-country pairs requested\n",
    "- Get entries from OD Dataset that have segments in the above dict/list\n",
    "- Need: OD data with segments identified (Part 1), and Airports info\n",
    "- Output: segment data with other info aggregated "
   ]
  },
  {
   "cell_type": "markdown",
   "metadata": {},
   "source": [
    "**PART 1: IDENTIFY SEGMENTS FROM ROUTES**\n",
    "\n",
    "Note: This part **can be skipped** if dataset(s) of segments is/are already available.\n",
    "\n",
    "Steps: \n",
    "1. Create a column with route name (e.g.A-B-C)\n",
    "2. Separate to 3 sets: direct, one connection, two connections\n",
    "3. For each set, identify all segments in route (e.g. A-B-C has 2 segments A-B and B-C)\n",
    "    - For one-connection routes, each route would appear twice in the dataset due to having 2 segments\n",
    "    - Similarly, for two-connection routes, each route would appear 3 times in the dataset due to having 3 segments\n",
    "4. Save 3 sets as 3 separate files"
   ]
  },
  {
   "cell_type": "code",
   "execution_count": null,
   "metadata": {},
   "outputs": [],
   "source": [
    "# Create route column of formats AAA-BBB, AAA-BBB-CCC, AAA-BBB-CCC-DDD\n",
    "OD_data['route'] = OD_data['dep_airport_code'] + str('-') + OD_data['gateway1_airport_code'].fillna('0') + str('-') + OD_data['gateway2_airport_code'].fillna('0') + str('-') + OD_data['arr_airport_code']"
   ]
  },
  {
   "cell_type": "code",
   "execution_count": null,
   "metadata": {},
   "outputs": [],
   "source": [
    "OD_data['route'] = OD_data['route'].str.replace('-0-0-','-')\n",
    "OD_data['route'] = OD_data['route'].str.replace('-0-','-')"
   ]
  },
  {
   "cell_type": "code",
   "execution_count": null,
   "metadata": {},
   "outputs": [],
   "source": [
    "# Group based on character length in route name (7 characters = direct, 11 char = one-con, 15 char = two-con)\n",
    "direct = OD_data[OD_data['route'].str.len() == 7]\n",
    "one_stop = OD_data[OD_data['route'].str.len() == 11]\n",
    "two_stop = OD_data[OD_data['route'].str.len() == 15]\n",
    "\n",
    "# direct.reset_index(inplace = True, drop = True)\n",
    "# one_stop.reset_index(inplace = True, drop = True)\n",
    "# two_stop.reset_index(inplace = True, drop = True)"
   ]
  },
  {
   "cell_type": "code",
   "execution_count": null,
   "metadata": {},
   "outputs": [],
   "source": [
    "# print(len(direct.index), len(one_stop.index), len(two_stop.index))"
   ]
  },
  {
   "cell_type": "code",
   "execution_count": null,
   "metadata": {},
   "outputs": [],
   "source": [
    "# Identify segments for direct routes (AAA-BBB)\n",
    "direct['segment'] = direct['route']"
   ]
  },
  {
   "cell_type": "code",
   "execution_count": null,
   "metadata": {},
   "outputs": [],
   "source": [
    "direct = direct.compute()"
   ]
  },
  {
   "cell_type": "code",
   "execution_count": null,
   "metadata": {},
   "outputs": [],
   "source": [
    "direct.to_csv('./OD_with_segment_direct.CSV', index = False)"
   ]
  },
  {
   "cell_type": "code",
   "execution_count": null,
   "metadata": {},
   "outputs": [],
   "source": [
    "# Identify segments for one-connection routes (AAA-BBB-CCC)\n",
    "one_stop['segment1'] = one_stop['route'].str[:7]\n",
    "one_stop['segment2'] = one_stop['route'].str[4:]"
   ]
  },
  {
   "cell_type": "code",
   "execution_count": null,
   "metadata": {},
   "outputs": [],
   "source": [
    "one_stop = one_stop.compute()"
   ]
  },
  {
   "cell_type": "code",
   "execution_count": null,
   "metadata": {},
   "outputs": [],
   "source": [
    "# Melt columns 'segment1' and 'segment2' into one column 'segment'\n",
    "# Each route would appear twice in the set, each time with a different value in 'segment' \n",
    "\n",
    "id_vars = ['route_id', 'dep_airport_code', 'gateway1_airport_code',\n",
    "           'gateway2_airport_code', 'arr_airport_code', 'total_est_pax',\n",
    "           'km', 'cabin_first', 'cabin_business', 'cabin_premium_economy',\n",
    "           'cabin_full_y', 'cabin_discount_economy', 'avgfare_total',\n",
    "           'avgfare_first', 'avgfare_business', 'avgfare_premium_economy',\n",
    "           'avgfare_full_y', 'avgfare_discount_economy', 'time_series',\n",
    "           'route']\n",
    "segment_x = [c for c in one_stop if c.startswith('segment')]\n",
    "\n",
    "one_stop = pd.melt(one_stop, id_vars=id_vars, value_vars=segment_x, value_name = 'segment')\n",
    "one_stop = one_stop.drop(columns=['variable'])"
   ]
  },
  {
   "cell_type": "code",
   "execution_count": null,
   "metadata": {},
   "outputs": [],
   "source": [
    "one_stop.to_csv('./OD_with_segment_one.CSV', index = False)"
   ]
  },
  {
   "cell_type": "code",
   "execution_count": null,
   "metadata": {},
   "outputs": [],
   "source": [
    "# Identify segments for two-connection routes (AAA-BBB-CCC-DDD)\n",
    "two_stop['segment1'] = two_stop['route'].str[:7]\n",
    "two_stop['segment2'] = two_stop['route'].str[4:11]\n",
    "two_stop['segment3'] = two_stop['route'].str[8:]"
   ]
  },
  {
   "cell_type": "code",
   "execution_count": null,
   "metadata": {},
   "outputs": [],
   "source": [
    "two_stop = two_stop.compute()"
   ]
  },
  {
   "cell_type": "code",
   "execution_count": null,
   "metadata": {},
   "outputs": [],
   "source": [
    "two_stop.to_csv('./OD_with_segment_two.CSV', index = False)"
   ]
  },
  {
   "cell_type": "markdown",
   "metadata": {},
   "source": [
    "Restart kernel here to avoid dead kernel"
   ]
  },
  {
   "cell_type": "code",
   "execution_count": null,
   "metadata": {},
   "outputs": [],
   "source": [
    "two_stop = pd.read_csv('./OD_with_segment_two.CSV')"
   ]
  },
  {
   "cell_type": "code",
   "execution_count": null,
   "metadata": {
    "scrolled": true
   },
   "outputs": [],
   "source": [
    "# Melt columns 'segment1', 'segment2' and 'segment3' into one column 'segment'\n",
    "# Each route would appear 3 times in the set, each time with a different value in 'segment' \n",
    "\n",
    "id_vars = ['route_id', 'dep_airport_code', 'gateway1_airport_code',\n",
    "           'gateway2_airport_code', 'arr_airport_code', 'total_est_pax',\n",
    "           'km', 'cabin_first', 'cabin_business', 'cabin_premium_economy',\n",
    "           'cabin_full_y', 'cabin_discount_economy', 'avgfare_total',\n",
    "           'avgfare_first', 'avgfare_business', 'avgfare_premium_economy',\n",
    "           'avgfare_full_y', 'avgfare_discount_economy', 'time_series',\n",
    "           'route']\n",
    "segment_x = [c for c in two_stop if c.startswith('segment')]\n",
    "two_stop = pd.melt(two_stop, id_vars=id_vars, value_vars=segment_x, value_name = 'segment')\n",
    "two_stop = two_stop.drop(columns=['variable'])"
   ]
  },
  {
   "cell_type": "code",
   "execution_count": null,
   "metadata": {},
   "outputs": [],
   "source": [
    "two_stop.to_csv('./OD_with_segment_two.CSV', index = False)"
   ]
  }
 ],
 "metadata": {
  "kernelspec": {
   "display_name": "Python 3",
   "language": "python",
   "name": "python3"
  },
  "language_info": {
   "codemirror_mode": {
    "name": "ipython",
    "version": 3
   },
   "file_extension": ".py",
   "mimetype": "text/x-python",
   "name": "python",
   "nbconvert_exporter": "python",
   "pygments_lexer": "ipython3",
   "version": "3.7.4"
  }
 },
 "nbformat": 4,
 "nbformat_minor": 2
}
