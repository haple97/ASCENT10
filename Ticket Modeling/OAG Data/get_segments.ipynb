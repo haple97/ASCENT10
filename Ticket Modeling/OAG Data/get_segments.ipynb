{
 "cells": [
  {
   "cell_type": "code",
   "execution_count": null,
   "metadata": {},
   "outputs": [],
   "source": [
    "import pandas as pd\n",
    "import numpy as np\n",
    "import itertools\n",
    "import dask.dataframe as dd"
   ]
  },
  {
   "cell_type": "markdown",
   "metadata": {},
   "source": [
    "**From OD Data to Segment Data**\n",
    "\n",
    "Process:  \n",
    "\n",
    "**Part 1**: Identify segments from each OD\n",
    "- Need: OD data\n",
    "- Output: 3 separate files for direct, one-connection, and two-connection routes\n",
    "\n",
    "**Part 2**: Based on information entered (cities, countries, regions, etc. and year), select OD with relevant segments, then sum passengers and take average fare:\n",
    "- Need: OD data with segments identified (Part 1), and Airports info\n",
    "- Output: segment data with other info aggregated "
   ]
  },
  {
   "cell_type": "markdown",
   "metadata": {},
   "source": [
    "**PART 2: PULL SEGMENT DATA BASED ON REQUESTED FIELDS**\n",
    "\n",
    "Steps: \n",
    "1. From Airports data, create list of all possible segments from region-region, region-country, or country-country pairs requested, and airports must be effective within the requested period\n",
    "2. From data in Part 1, get segments within above list and within that period\n",
    "3. Sum for passengers and average fare"
   ]
  },
  {
   "cell_type": "code",
   "execution_count": null,
   "metadata": {},
   "outputs": [],
   "source": [
    "# ENTER INFORMATION TO REQUEST HERE\n",
    "\n",
    "# Time: any time within range [2011, 2020]\n",
    "start = 2011\n",
    "end = 2013\n",
    "\n",
    "# Airport 1: \n",
    "region1 = ['AF1']\n",
    "country1 = []\n",
    "city1 = []\n",
    "\n",
    "# Airport 2:\n",
    "region2 = ['AF2']\n",
    "country2 = []\n",
    "city2 = []"
   ]
  },
  {
   "cell_type": "code",
   "execution_count": null,
   "metadata": {},
   "outputs": [],
   "source": [
    "# Load airports data \n",
    "airports = pd.read_csv('./worldwide_airports_info.CSV')\n",
    "\n",
    "airports['eff_from'] = pd.to_datetime(airports['eff_from'])\n",
    "airports['eff_to'] = pd.to_datetime(airports['eff_to'])"
   ]
  },
  {
   "cell_type": "code",
   "execution_count": null,
   "metadata": {},
   "outputs": [],
   "source": [
    "# Filter for airports valid within requested period and based in requested regions/countries/cities \n",
    "airports_period = airports[~(airports['eff_from'].dt.year > end) & ~(airports['eff_to'].dt.year < start)]\n",
    "\n",
    "airport1_df =  airports_period[airports['region'].isin(region1)]\n",
    "airport1_set = list(set(airport1_df['iata'].tolist())) # get unique values of airport names, turn to list\n",
    "\n",
    "airport2_df =  airports_period[airports['region'].isin(region2)]\n",
    "airport2_set = list(set(airport2_df['iata'].tolist()))"
   ]
  },
  {
   "cell_type": "code",
   "execution_count": null,
   "metadata": {},
   "outputs": [],
   "source": [
    "# Permutations of two airport lists are all possible segments \n",
    "# NOTE: no need to remove combinations like AAA-AAA because the data would not have such segments anyway\n",
    "airport_pair = list(itertools.product(airport1_set, airport2_set))\n",
    "req_segments = [c + str('-') + d for (c, d) in airport_pair]"
   ]
  },
  {
   "cell_type": "code",
   "execution_count": null,
   "metadata": {},
   "outputs": [],
   "source": [
    "%%time\n",
    "\n",
    "# Load OD data with segments identified\n",
    "direct = dd.read_csv('./OD_with_segment_direct.CSV', \n",
    "                     dtype={'gateway1_airport_code': 'object','gateway2_airport_code': 'object'})\n",
    "one_stop = dd.read_csv('./OD_with_segment_one.CSV', \n",
    "                       dtype={'gateway1_airport_code': 'object','gateway2_airport_code': 'object'})\n",
    "two_stop = dd.read_csv('./OD_with_segment_two.CSV')"
   ]
  },
  {
   "cell_type": "code",
   "execution_count": null,
   "metadata": {},
   "outputs": [],
   "source": [
    "# Get entries relevant to list of segments requested\n",
    "subset = dd.concat([direct[direct['segment'].isin(req_segments)], \n",
    "                    one_stop[one_stop['segment'].isin(req_segments)], \n",
    "                    two_stop[two_stop['segment'].isin(req_segments)]], axis = 0)\n",
    "\n",
    "subset = subset[subset['time_series'].isin(range(start,end+1))]"
   ]
  },
  {
   "cell_type": "code",
   "execution_count": null,
   "metadata": {},
   "outputs": [],
   "source": [
    "subset = subset.compute()"
   ]
  },
  {
   "cell_type": "code",
   "execution_count": null,
   "metadata": {},
   "outputs": [],
   "source": [
    "subset.reset_index(inplace = True, drop = True)"
   ]
  },
  {
   "cell_type": "markdown",
   "metadata": {},
   "source": [
    "**FLEET Refresh filters needed here**\n",
    "\n",
    "Before combining into segments, data must be filtered \n",
    "1. Route with X passengers only for the whole year? (but this X means the number of people going directly from A to B, there can be other people on the flight, they just don't go directly there) --> Maybe filter after combining to segments\n",
    "2. km? \n",
    "3. Average fare less than 50? "
   ]
  },
  {
   "cell_type": "code",
   "execution_count": null,
   "metadata": {},
   "outputs": [],
   "source": [
    "# Group by segment and year, then sum pax and average fare\n",
    "output = subset.groupby(['time_series', 'segment']).agg({'total_est._pax':'sum', \n",
    "                                                         'cabin_first':'sum', \n",
    "                                                         'cabin_business':'sum', \n",
    "                                                         'cabin_premium_economy':'sum', \n",
    "                                                         'cabin_full_y':'sum', \n",
    "                                                         'cabin_discount_economy':'sum', \n",
    "                                                         'avgfare_total':'mean', \n",
    "                                                         'avgfare_first':'mean', \n",
    "                                                         'avgfare_business':'mean',\n",
    "                                                         'avgfare_premium_economy':'mean',\n",
    "                                                         'avgfare_fully':'mean',\n",
    "                                                         'avgfare_discount_economy':'mean'})\n",
    "output.reset_index(inplace = True)\n",
    "\n",
    "# NOTE: More accurate way to calculate fare is to multiply each fare by the corresponding number of pax "
   ]
  },
  {
   "cell_type": "code",
   "execution_count": null,
   "metadata": {},
   "outputs": [],
   "source": [
    "# Save/show output\n",
    "output"
   ]
  }
 ],
 "metadata": {
  "kernelspec": {
   "display_name": "Python 3",
   "language": "python",
   "name": "python3"
  },
  "language_info": {
   "codemirror_mode": {
    "name": "ipython",
    "version": 3
   },
   "file_extension": ".py",
   "mimetype": "text/x-python",
   "name": "python",
   "nbconvert_exporter": "python",
   "pygments_lexer": "ipython3",
   "version": "3.7.4"
  }
 },
 "nbformat": 4,
 "nbformat_minor": 2
}
