{
 "cells": [
  {
   "cell_type": "code",
   "execution_count": 1,
   "metadata": {},
   "outputs": [],
   "source": [
    "import pandas as pd\n",
    "import matplotlib.pyplot as plt\n",
    "import numpy as np\n",
    "\n",
    "%matplotlib notebook\n",
    "%matplotlib notebook"
   ]
  },
  {
   "cell_type": "code",
   "execution_count": 2,
   "metadata": {},
   "outputs": [],
   "source": [
    "# International segment monthly data from all carriers on all routes; there can be more than 1 entry for a month\n",
    "# e.g. American Airlines has 2 entries for JFK-LAX on Jan, 1 entry on Feb, 4 entries on Apr, etc.\n",
    "all_2005 = pd.read_csv('./413215462_T_T100_SEGMENT_ALL_CARRIER.csv')   \n",
    "columns = ['DEPARTURES_SCHEDULED', 'DEPARTURES_PERFORMED', 'SEATS',\n",
    "           'PASSENGERS', 'DISTANCE', 'AIR_TIME',\n",
    "           'UNIQUE_CARRIER', 'AIRLINE_ID', 'UNIQUE_CARRIER_NAME',\n",
    "           'UNIQUE_CARRIER_ENTITY', 'REGION', 'CARRIER', 'CARRIER_NAME',\n",
    "           'CARRIER_GROUP', 'CARRIER_GROUP_NEW', 'ORIGIN_AIRPORT_ID',\n",
    "           'ORIGIN_AIRPORT_SEQ_ID', 'ORIGIN_CITY_MARKET_ID', 'ORIGIN',\n",
    "           'ORIGIN_CITY_NAME', 'ORIGIN_COUNTRY', 'ORIGIN_COUNTRY_NAME',\n",
    "           'ORIGIN_WAC', 'DEST_AIRPORT_ID', 'DEST_AIRPORT_SEQ_ID',\n",
    "           'DEST_CITY_MARKET_ID', 'DEST', 'DEST_CITY_NAME', 'DEST_COUNTRY',\n",
    "           'DEST_COUNTRY_NAME', 'DEST_WAC', 'AIRCRAFT_GROUP', 'AIRCRAFT_TYPE',\n",
    "           'AIRCRAFT_CONFIG', 'QUARTER', 'MONTH','DISTANCE_GROUP', 'CLASS']\n",
    "\n",
    "\n",
    "all_2005 = all_2005[columns]"
   ]
  },
  {
   "cell_type": "code",
   "execution_count": 3,
   "metadata": {},
   "outputs": [],
   "source": [
    "# 255 WWLMINET network airport list\n",
    "airport_list = pd.read_excel('./GHG and cost LC stages System Expansion.xlsx', sheet_name='Airport List Map')\n",
    "\n",
    "# Parse based on the origin and destination\n",
    "all_2005 = all_2005[all_2005['ORIGIN'].isin(airport_list.Code) & all_2005['DEST'].isin(airport_list.Code)]"
   ]
  },
  {
   "cell_type": "code",
   "execution_count": 4,
   "metadata": {},
   "outputs": [],
   "source": [
    "# Filter out the all cargo carrier data based on carrier group new id\n",
    "all_2005 = all_2005[all_2005['CARRIER_GROUP_NEW'] != 7]"
   ]
  },
  {
   "cell_type": "code",
   "execution_count": 5,
   "metadata": {},
   "outputs": [],
   "source": [
    "# Filter out the freight configuration aircraft based on aircraft configuration id\n",
    "all_2005 = all_2005[all_2005['AIRCRAFT_CONFIG'] != 2]"
   ]
  },
  {
   "cell_type": "code",
   "execution_count": 6,
   "metadata": {},
   "outputs": [],
   "source": [
    "# Filter out seaplane based on aircraft configuration id\n",
    "all_2005 = all_2005[all_2005['AIRCRAFT_CONFIG'] != 4]"
   ]
  },
  {
   "cell_type": "code",
   "execution_count": 7,
   "metadata": {
    "scrolled": true
   },
   "outputs": [],
   "source": [
    "# Filter out the all cargo scheduled service, unscheduled passenger service based on class id\n",
    "all_2005 = all_2005[all_2005['CLASS'].isin(['F','A','C','E'])]"
   ]
  },
  {
   "cell_type": "code",
   "execution_count": 8,
   "metadata": {},
   "outputs": [],
   "source": [
    "# Filter out routes by international/foreign carriers based on carrier group id and carrier group new id\n",
    "all_2005 = all_2005[all_2005['CARRIER_GROUP_NEW'] != 0]\n",
    "all_2005 = all_2005[all_2005['CARRIER_GROUP'] != 0]"
   ]
  },
  {
   "cell_type": "code",
   "execution_count": 9,
   "metadata": {},
   "outputs": [],
   "source": [
    "# Keep only routes with demand for passenger service (non-zero passengers and seats) \n",
    "all_2005 = all_2005[(all_2005['PASSENGERS'] > 0) & (all_2005['SEATS'] > 0)]"
   ]
  },
  {
   "cell_type": "code",
   "execution_count": 10,
   "metadata": {},
   "outputs": [],
   "source": [
    "# Filter out routes with 0 distance (or routes with origin = destination)\n",
    "all_2005 = all_2005[all_2005['DISTANCE'] != 0]"
   ]
  },
  {
   "cell_type": "code",
   "execution_count": 11,
   "metadata": {},
   "outputs": [],
   "source": [
    "# Aggregate the data together into the monthly performance by different airlines\n",
    "# e.g. American Airlines has 1 entry for JFK-LAX on Jan, 1 on Feb, 1 on Apr, etc.\n",
    "\n",
    "index_column = ['AIRLINE_ID', 'UNIQUE_CARRIER_NAME',\n",
    "                'UNIQUE_CARRIER_ENTITY', 'REGION','CARRIER_NAME',\n",
    "                'CARRIER_GROUP', 'CARRIER_GROUP_NEW', 'ORIGIN_AIRPORT_ID',\n",
    "                'ORIGIN_AIRPORT_SEQ_ID', 'ORIGIN_CITY_MARKET_ID', 'ORIGIN',\n",
    "                'ORIGIN_CITY_NAME', 'ORIGIN_COUNTRY', 'ORIGIN_COUNTRY_NAME',\n",
    "                'ORIGIN_WAC', 'DEST_AIRPORT_ID', 'DEST_AIRPORT_SEQ_ID',\n",
    "                'DEST_CITY_MARKET_ID', 'DEST', 'DEST_CITY_NAME', 'DEST_COUNTRY',\n",
    "                'DEST_COUNTRY_NAME', 'DEST_WAC', 'MONTH']\n",
    "monthly_2005 = all_2005.groupby(index_column).agg({'DEPARTURES_SCHEDULED': 'sum', \n",
    "                                                 'DEPARTURES_PERFORMED': 'sum',  \n",
    "                                                 'SEATS': 'sum', \n",
    "                                                 'PASSENGERS': 'sum',  \n",
    "                                                 'DISTANCE': 'mean', \n",
    "                                                 'AIR_TIME': 'mean'})\n",
    "\n",
    "monthly_2005.reset_index(inplace=True)"
   ]
  },
  {
   "cell_type": "code",
   "execution_count": 12,
   "metadata": {
    "scrolled": true
   },
   "outputs": [],
   "source": [
    "# Add directional route names (consider A-B != B-A)\n",
    "monthly_2005['DIRROUTE'] = monthly_2005.apply(lambda x: x.ORIGIN+'-'+x.DEST, axis =1)"
   ]
  },
  {
   "cell_type": "code",
   "execution_count": 13,
   "metadata": {},
   "outputs": [],
   "source": [
    "# Group by directional route names to combine all airlines into 1 representative airline \n",
    "# e.g. JFK-LAX has multiple entries (max 12), one for each month, and the demand shown is sum of all airlines\n",
    "\n",
    "index_column = ['DIRROUTE', 'ORIGIN','ORIGIN_CITY_NAME', 'DEST', 'DEST_CITY_NAME', 'MONTH']\n",
    "monthly_2005 = monthly_2005.groupby(index_column).agg({'DEPARTURES_SCHEDULED': 'sum', \n",
    "                                                 'DEPARTURES_PERFORMED': 'sum',\n",
    "                                                 'SEATS': 'sum',\n",
    "                                                 'PASSENGERS': 'sum',\n",
    "                                                 'DISTANCE': 'mean',\n",
    "                                                 'AIR_TIME': 'mean'})\n",
    "monthly_2005.reset_index(inplace=True)"
   ]
  },
  {
   "cell_type": "code",
   "execution_count": 14,
   "metadata": {},
   "outputs": [],
   "source": [
    "# A directional route must have at least 4 flights per month (1 flight per week) to qualify as \"regular ops\"\n",
    "monthly_2005 = monthly_2005[monthly_2005['DEPARTURES_PERFORMED'] >= 4]"
   ]
  },
  {
   "cell_type": "code",
   "execution_count": 15,
   "metadata": {},
   "outputs": [],
   "source": [
    "monthly_2005.to_csv('./Jan2Dec_demand_2005.csv')"
   ]
  },
  {
   "cell_type": "code",
   "execution_count": 16,
   "metadata": {},
   "outputs": [],
   "source": [
    "# Obtain a subset of demand data for each month \n",
    "# monthly_2005 = monthly_2005[monthly_2005['MONTH'] == 12]\n",
    "# monthly_2005.to_csv('./Dec_demand_2005.csv')"
   ]
  }
 ],
 "metadata": {
  "kernelspec": {
   "display_name": "Python 3",
   "language": "python",
   "name": "python3"
  },
  "language_info": {
   "codemirror_mode": {
    "name": "ipython",
    "version": 3
   },
   "file_extension": ".py",
   "mimetype": "text/x-python",
   "name": "python",
   "nbconvert_exporter": "python",
   "pygments_lexer": "ipython3",
   "version": "3.7.4"
  }
 },
 "nbformat": 4,
 "nbformat_minor": 2
}
