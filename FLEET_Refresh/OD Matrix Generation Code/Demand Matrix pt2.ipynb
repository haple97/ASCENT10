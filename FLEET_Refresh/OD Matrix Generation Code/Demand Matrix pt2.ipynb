{
 "cells": [
  {
   "cell_type": "code",
   "execution_count": 41,
   "metadata": {},
   "outputs": [],
   "source": [
    "import pandas as pd\n",
    "import matplotlib.pyplot as plt\n",
    "import numpy as np\n",
    "\n",
    "%matplotlib notebook\n",
    "%matplotlib notebook"
   ]
  },
  {
   "cell_type": "code",
   "execution_count": 42,
   "metadata": {},
   "outputs": [],
   "source": [
    "# Read demand matrix file with entries being origin-destination names (generated from Demand Matrix code)\n",
    "demand_matrix = pd.read_csv('./demand_matrix.csv')"
   ]
  },
  {
   "cell_type": "code",
   "execution_count": 43,
   "metadata": {},
   "outputs": [],
   "source": [
    "# Get list of routes need to be transformed to matrix\n",
    "# HERE: filtered directional routes w/ yearly demand, all airlines combined\n",
    "demand_list = pd.read_csv('./Dec_demand_2005.csv') "
   ]
  },
  {
   "cell_type": "code",
   "execution_count": 44,
   "metadata": {},
   "outputs": [],
   "source": [
    "'''Loop across rows and columns, replace each cell with the corresponding demand found in the list above'''\n",
    "\n",
    "for i in range (0,len(demand_matrix)):    # Loop across rows (index: 0 to 256)\n",
    "    for j in range (1,len(demand_matrix)+1):  # Loop across columns (index: 1 to 257, col 0 = rows name)\n",
    "        route = demand_matrix.iloc[i,j]     \n",
    "        # Get the route name by indexing the demand_matrix (type: string)\n",
    "        \n",
    "        location = demand_list.index[demand_list['DIRROUTE'] == route].tolist()  \n",
    "        # Get corresponding row number on demand_list\n",
    "        \n",
    "        # If there's a route matching the name on route_list, replace with demand number\n",
    "        if len(location)!= 0: \n",
    "            demand_matrix.iloc[i, j] = demand_list.at[location[0], 'PASSENGERS']\n",
    "        # Otherwise, replace with 0 \n",
    "        else: \n",
    "            demand_matrix.iloc[i, j] = 0\n",
    "\n",
    "# Print to excel file \n",
    "demand_matrix.to_excel('./demand_matrix_2005_Dec.xlsx', index = False) "
   ]
  }
 ],
 "metadata": {
  "kernelspec": {
   "display_name": "Python 3",
   "language": "python",
   "name": "python3"
  },
  "language_info": {
   "codemirror_mode": {
    "name": "ipython",
    "version": 3
   },
   "file_extension": ".py",
   "mimetype": "text/x-python",
   "name": "python",
   "nbconvert_exporter": "python",
   "pygments_lexer": "ipython3",
   "version": "3.7.4"
  }
 },
 "nbformat": 4,
 "nbformat_minor": 2
}
